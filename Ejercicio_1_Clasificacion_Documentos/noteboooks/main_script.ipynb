{
  "nbformat": 4,
  "nbformat_minor": 0,
  "metadata": {
    "colab": {
      "provenance": []
    },
    "kernelspec": {
      "name": "python3",
      "display_name": "Python 3"
    },
    "language_info": {
      "name": "python"
    }
  },
  "cells": [
    {
      "cell_type": "markdown",
      "source": [
        "## Preparar el entorno"
      ],
      "metadata": {
        "id": "SnCd2oj3Usy2"
      }
    },
    {
      "cell_type": "code",
      "source": [
        "!pip install -r requirements_ejercicio1.txt"
      ],
      "metadata": {
        "colab": {
          "base_uri": "https://localhost:8080/"
        },
        "id": "EHmcqhFDTFq0",
        "outputId": "f60919a4-8d5f-443f-d40e-27d470be8a61"
      },
      "execution_count": 8,
      "outputs": [
        {
          "output_type": "stream",
          "name": "stdout",
          "text": [
            "Requirement already satisfied: numpy in /usr/local/lib/python3.10/dist-packages (from -r requirements_ejercicio1.txt (line 1)) (1.25.2)\n",
            "Requirement already satisfied: pandas==1.5.3 in /usr/local/lib/python3.10/dist-packages (from -r requirements_ejercicio1.txt (line 2)) (1.5.3)\n",
            "Requirement already satisfied: scikit-learn in /usr/local/lib/python3.10/dist-packages (from -r requirements_ejercicio1.txt (line 3)) (1.2.2)\n",
            "Requirement already satisfied: nltk in /usr/local/lib/python3.10/dist-packages (from -r requirements_ejercicio1.txt (line 4)) (3.8.1)\n",
            "Requirement already satisfied: spacy in /usr/local/lib/python3.10/dist-packages (from -r requirements_ejercicio1.txt (line 5)) (3.7.4)\n",
            "Requirement already satisfied: gensim in /usr/local/lib/python3.10/dist-packages (from -r requirements_ejercicio1.txt (line 6)) (4.3.2)\n",
            "Requirement already satisfied: matplotlib in /usr/local/lib/python3.10/dist-packages (from -r requirements_ejercicio1.txt (line 7)) (3.7.1)\n",
            "Requirement already satisfied: seaborn in /usr/local/lib/python3.10/dist-packages (from -r requirements_ejercicio1.txt (line 8)) (0.13.1)\n",
            "Requirement already satisfied: wordcloud in /usr/local/lib/python3.10/dist-packages (from -r requirements_ejercicio1.txt (line 9)) (1.9.3)\n",
            "Requirement already satisfied: beautifulsoup4 in /usr/local/lib/python3.10/dist-packages (from -r requirements_ejercicio1.txt (line 10)) (4.12.3)\n",
            "Requirement already satisfied: mlflow in /usr/local/lib/python3.10/dist-packages (from -r requirements_ejercicio1.txt (line 11)) (2.11.3)\n",
            "Requirement already satisfied: jupyter in /usr/local/lib/python3.10/dist-packages (from -r requirements_ejercicio1.txt (line 12)) (1.0.0)\n",
            "Requirement already satisfied: python-dateutil>=2.8.1 in /usr/local/lib/python3.10/dist-packages (from pandas==1.5.3->-r requirements_ejercicio1.txt (line 2)) (2.8.2)\n",
            "Requirement already satisfied: pytz>=2020.1 in /usr/local/lib/python3.10/dist-packages (from pandas==1.5.3->-r requirements_ejercicio1.txt (line 2)) (2023.4)\n",
            "Requirement already satisfied: scipy>=1.3.2 in /usr/local/lib/python3.10/dist-packages (from scikit-learn->-r requirements_ejercicio1.txt (line 3)) (1.11.4)\n",
            "Requirement already satisfied: joblib>=1.1.1 in /usr/local/lib/python3.10/dist-packages (from scikit-learn->-r requirements_ejercicio1.txt (line 3)) (1.3.2)\n",
            "Requirement already satisfied: threadpoolctl>=2.0.0 in /usr/local/lib/python3.10/dist-packages (from scikit-learn->-r requirements_ejercicio1.txt (line 3)) (3.4.0)\n",
            "Requirement already satisfied: click in /usr/local/lib/python3.10/dist-packages (from nltk->-r requirements_ejercicio1.txt (line 4)) (8.1.7)\n",
            "Requirement already satisfied: regex>=2021.8.3 in /usr/local/lib/python3.10/dist-packages (from nltk->-r requirements_ejercicio1.txt (line 4)) (2023.12.25)\n",
            "Requirement already satisfied: tqdm in /usr/local/lib/python3.10/dist-packages (from nltk->-r requirements_ejercicio1.txt (line 4)) (4.66.2)\n",
            "Requirement already satisfied: spacy-legacy<3.1.0,>=3.0.11 in /usr/local/lib/python3.10/dist-packages (from spacy->-r requirements_ejercicio1.txt (line 5)) (3.0.12)\n",
            "Requirement already satisfied: spacy-loggers<2.0.0,>=1.0.0 in /usr/local/lib/python3.10/dist-packages (from spacy->-r requirements_ejercicio1.txt (line 5)) (1.0.5)\n",
            "Requirement already satisfied: murmurhash<1.1.0,>=0.28.0 in /usr/local/lib/python3.10/dist-packages (from spacy->-r requirements_ejercicio1.txt (line 5)) (1.0.10)\n",
            "Requirement already satisfied: cymem<2.1.0,>=2.0.2 in /usr/local/lib/python3.10/dist-packages (from spacy->-r requirements_ejercicio1.txt (line 5)) (2.0.8)\n",
            "Requirement already satisfied: preshed<3.1.0,>=3.0.2 in /usr/local/lib/python3.10/dist-packages (from spacy->-r requirements_ejercicio1.txt (line 5)) (3.0.9)\n",
            "Requirement already satisfied: thinc<8.3.0,>=8.2.2 in /usr/local/lib/python3.10/dist-packages (from spacy->-r requirements_ejercicio1.txt (line 5)) (8.2.3)\n",
            "Requirement already satisfied: wasabi<1.2.0,>=0.9.1 in /usr/local/lib/python3.10/dist-packages (from spacy->-r requirements_ejercicio1.txt (line 5)) (1.1.2)\n",
            "Requirement already satisfied: srsly<3.0.0,>=2.4.3 in /usr/local/lib/python3.10/dist-packages (from spacy->-r requirements_ejercicio1.txt (line 5)) (2.4.8)\n",
            "Requirement already satisfied: catalogue<2.1.0,>=2.0.6 in /usr/local/lib/python3.10/dist-packages (from spacy->-r requirements_ejercicio1.txt (line 5)) (2.0.10)\n",
            "Requirement already satisfied: weasel<0.4.0,>=0.1.0 in /usr/local/lib/python3.10/dist-packages (from spacy->-r requirements_ejercicio1.txt (line 5)) (0.3.4)\n",
            "Requirement already satisfied: typer<0.10.0,>=0.3.0 in /usr/local/lib/python3.10/dist-packages (from spacy->-r requirements_ejercicio1.txt (line 5)) (0.9.4)\n",
            "Requirement already satisfied: smart-open<7.0.0,>=5.2.1 in /usr/local/lib/python3.10/dist-packages (from spacy->-r requirements_ejercicio1.txt (line 5)) (6.4.0)\n",
            "Requirement already satisfied: requests<3.0.0,>=2.13.0 in /usr/local/lib/python3.10/dist-packages (from spacy->-r requirements_ejercicio1.txt (line 5)) (2.31.0)\n",
            "Requirement already satisfied: pydantic!=1.8,!=1.8.1,<3.0.0,>=1.7.4 in /usr/local/lib/python3.10/dist-packages (from spacy->-r requirements_ejercicio1.txt (line 5)) (2.6.4)\n",
            "Requirement already satisfied: jinja2 in /usr/local/lib/python3.10/dist-packages (from spacy->-r requirements_ejercicio1.txt (line 5)) (3.1.3)\n",
            "Requirement already satisfied: setuptools in /usr/local/lib/python3.10/dist-packages (from spacy->-r requirements_ejercicio1.txt (line 5)) (67.7.2)\n",
            "Requirement already satisfied: packaging>=20.0 in /usr/local/lib/python3.10/dist-packages (from spacy->-r requirements_ejercicio1.txt (line 5)) (23.2)\n",
            "Requirement already satisfied: langcodes<4.0.0,>=3.2.0 in /usr/local/lib/python3.10/dist-packages (from spacy->-r requirements_ejercicio1.txt (line 5)) (3.3.0)\n",
            "Requirement already satisfied: contourpy>=1.0.1 in /usr/local/lib/python3.10/dist-packages (from matplotlib->-r requirements_ejercicio1.txt (line 7)) (1.2.0)\n",
            "Requirement already satisfied: cycler>=0.10 in /usr/local/lib/python3.10/dist-packages (from matplotlib->-r requirements_ejercicio1.txt (line 7)) (0.12.1)\n",
            "Requirement already satisfied: fonttools>=4.22.0 in /usr/local/lib/python3.10/dist-packages (from matplotlib->-r requirements_ejercicio1.txt (line 7)) (4.50.0)\n",
            "Requirement already satisfied: kiwisolver>=1.0.1 in /usr/local/lib/python3.10/dist-packages (from matplotlib->-r requirements_ejercicio1.txt (line 7)) (1.4.5)\n",
            "Requirement already satisfied: pillow>=6.2.0 in /usr/local/lib/python3.10/dist-packages (from matplotlib->-r requirements_ejercicio1.txt (line 7)) (9.4.0)\n",
            "Requirement already satisfied: pyparsing>=2.3.1 in /usr/local/lib/python3.10/dist-packages (from matplotlib->-r requirements_ejercicio1.txt (line 7)) (3.1.2)\n",
            "Requirement already satisfied: soupsieve>1.2 in /usr/local/lib/python3.10/dist-packages (from beautifulsoup4->-r requirements_ejercicio1.txt (line 10)) (2.5)\n",
            "Requirement already satisfied: cloudpickle<4 in /usr/local/lib/python3.10/dist-packages (from mlflow->-r requirements_ejercicio1.txt (line 11)) (2.2.1)\n",
            "Requirement already satisfied: entrypoints<1 in /usr/local/lib/python3.10/dist-packages (from mlflow->-r requirements_ejercicio1.txt (line 11)) (0.4)\n",
            "Requirement already satisfied: gitpython<4,>=3.1.9 in /usr/local/lib/python3.10/dist-packages (from mlflow->-r requirements_ejercicio1.txt (line 11)) (3.1.43)\n",
            "Requirement already satisfied: pyyaml<7,>=5.1 in /usr/local/lib/python3.10/dist-packages (from mlflow->-r requirements_ejercicio1.txt (line 11)) (6.0.1)\n",
            "Requirement already satisfied: protobuf<5,>=3.12.0 in /usr/local/lib/python3.10/dist-packages (from mlflow->-r requirements_ejercicio1.txt (line 11)) (3.20.3)\n",
            "Requirement already satisfied: importlib-metadata!=4.7.0,<8,>=3.7.0 in /usr/local/lib/python3.10/dist-packages (from mlflow->-r requirements_ejercicio1.txt (line 11)) (7.1.0)\n",
            "Requirement already satisfied: sqlparse<1,>=0.4.0 in /usr/local/lib/python3.10/dist-packages (from mlflow->-r requirements_ejercicio1.txt (line 11)) (0.4.4)\n",
            "Requirement already satisfied: alembic!=1.10.0,<2 in /usr/local/lib/python3.10/dist-packages (from mlflow->-r requirements_ejercicio1.txt (line 11)) (1.13.1)\n",
            "Requirement already satisfied: docker<8,>=4.0.0 in /usr/local/lib/python3.10/dist-packages (from mlflow->-r requirements_ejercicio1.txt (line 11)) (7.0.0)\n",
            "Requirement already satisfied: Flask<4 in /usr/local/lib/python3.10/dist-packages (from mlflow->-r requirements_ejercicio1.txt (line 11)) (2.2.5)\n",
            "Requirement already satisfied: querystring-parser<2 in /usr/local/lib/python3.10/dist-packages (from mlflow->-r requirements_ejercicio1.txt (line 11)) (1.2.4)\n",
            "Requirement already satisfied: sqlalchemy<3,>=1.4.0 in /usr/local/lib/python3.10/dist-packages (from mlflow->-r requirements_ejercicio1.txt (line 11)) (2.0.29)\n",
            "Requirement already satisfied: pyarrow<16,>=4.0.0 in /usr/local/lib/python3.10/dist-packages (from mlflow->-r requirements_ejercicio1.txt (line 11)) (14.0.2)\n",
            "Requirement already satisfied: markdown<4,>=3.3 in /usr/local/lib/python3.10/dist-packages (from mlflow->-r requirements_ejercicio1.txt (line 11)) (3.6)\n",
            "Requirement already satisfied: graphene<4 in /usr/local/lib/python3.10/dist-packages (from mlflow->-r requirements_ejercicio1.txt (line 11)) (3.3)\n",
            "Requirement already satisfied: gunicorn<22 in /usr/local/lib/python3.10/dist-packages (from mlflow->-r requirements_ejercicio1.txt (line 11)) (21.2.0)\n",
            "Requirement already satisfied: notebook in /usr/local/lib/python3.10/dist-packages (from jupyter->-r requirements_ejercicio1.txt (line 12)) (6.5.5)\n",
            "Requirement already satisfied: qtconsole in /usr/local/lib/python3.10/dist-packages (from jupyter->-r requirements_ejercicio1.txt (line 12)) (5.5.1)\n",
            "Requirement already satisfied: jupyter-console in /usr/local/lib/python3.10/dist-packages (from jupyter->-r requirements_ejercicio1.txt (line 12)) (6.1.0)\n",
            "Requirement already satisfied: nbconvert in /usr/local/lib/python3.10/dist-packages (from jupyter->-r requirements_ejercicio1.txt (line 12)) (6.5.4)\n",
            "Requirement already satisfied: ipykernel in /usr/local/lib/python3.10/dist-packages (from jupyter->-r requirements_ejercicio1.txt (line 12)) (5.5.6)\n",
            "Requirement already satisfied: ipywidgets in /usr/local/lib/python3.10/dist-packages (from jupyter->-r requirements_ejercicio1.txt (line 12)) (7.7.1)\n",
            "Requirement already satisfied: Mako in /usr/local/lib/python3.10/dist-packages (from alembic!=1.10.0,<2->mlflow->-r requirements_ejercicio1.txt (line 11)) (1.3.2)\n",
            "Requirement already satisfied: typing-extensions>=4 in /usr/local/lib/python3.10/dist-packages (from alembic!=1.10.0,<2->mlflow->-r requirements_ejercicio1.txt (line 11)) (4.10.0)\n",
            "Requirement already satisfied: urllib3>=1.26.0 in /usr/local/lib/python3.10/dist-packages (from docker<8,>=4.0.0->mlflow->-r requirements_ejercicio1.txt (line 11)) (2.0.7)\n",
            "Requirement already satisfied: Werkzeug>=2.2.2 in /usr/local/lib/python3.10/dist-packages (from Flask<4->mlflow->-r requirements_ejercicio1.txt (line 11)) (3.0.2)\n",
            "Requirement already satisfied: itsdangerous>=2.0 in /usr/local/lib/python3.10/dist-packages (from Flask<4->mlflow->-r requirements_ejercicio1.txt (line 11)) (2.1.2)\n",
            "Requirement already satisfied: gitdb<5,>=4.0.1 in /usr/local/lib/python3.10/dist-packages (from gitpython<4,>=3.1.9->mlflow->-r requirements_ejercicio1.txt (line 11)) (4.0.11)\n",
            "Requirement already satisfied: graphql-core<3.3,>=3.1 in /usr/local/lib/python3.10/dist-packages (from graphene<4->mlflow->-r requirements_ejercicio1.txt (line 11)) (3.2.3)\n",
            "Requirement already satisfied: graphql-relay<3.3,>=3.1 in /usr/local/lib/python3.10/dist-packages (from graphene<4->mlflow->-r requirements_ejercicio1.txt (line 11)) (3.2.0)\n",
            "Requirement already satisfied: aniso8601<10,>=8 in /usr/local/lib/python3.10/dist-packages (from graphene<4->mlflow->-r requirements_ejercicio1.txt (line 11)) (9.0.1)\n",
            "Requirement already satisfied: zipp>=0.5 in /usr/local/lib/python3.10/dist-packages (from importlib-metadata!=4.7.0,<8,>=3.7.0->mlflow->-r requirements_ejercicio1.txt (line 11)) (3.18.1)\n",
            "Requirement already satisfied: MarkupSafe>=2.0 in /usr/local/lib/python3.10/dist-packages (from jinja2->spacy->-r requirements_ejercicio1.txt (line 5)) (2.1.5)\n",
            "Requirement already satisfied: annotated-types>=0.4.0 in /usr/local/lib/python3.10/dist-packages (from pydantic!=1.8,!=1.8.1,<3.0.0,>=1.7.4->spacy->-r requirements_ejercicio1.txt (line 5)) (0.6.0)\n",
            "Requirement already satisfied: pydantic-core==2.16.3 in /usr/local/lib/python3.10/dist-packages (from pydantic!=1.8,!=1.8.1,<3.0.0,>=1.7.4->spacy->-r requirements_ejercicio1.txt (line 5)) (2.16.3)\n",
            "Requirement already satisfied: six>=1.5 in /usr/local/lib/python3.10/dist-packages (from python-dateutil>=2.8.1->pandas==1.5.3->-r requirements_ejercicio1.txt (line 2)) (1.16.0)\n",
            "Requirement already satisfied: charset-normalizer<4,>=2 in /usr/local/lib/python3.10/dist-packages (from requests<3.0.0,>=2.13.0->spacy->-r requirements_ejercicio1.txt (line 5)) (3.3.2)\n",
            "Requirement already satisfied: idna<4,>=2.5 in /usr/local/lib/python3.10/dist-packages (from requests<3.0.0,>=2.13.0->spacy->-r requirements_ejercicio1.txt (line 5)) (3.6)\n",
            "Requirement already satisfied: certifi>=2017.4.17 in /usr/local/lib/python3.10/dist-packages (from requests<3.0.0,>=2.13.0->spacy->-r requirements_ejercicio1.txt (line 5)) (2024.2.2)\n",
            "Requirement already satisfied: greenlet!=0.4.17 in /usr/local/lib/python3.10/dist-packages (from sqlalchemy<3,>=1.4.0->mlflow->-r requirements_ejercicio1.txt (line 11)) (3.0.3)\n",
            "Requirement already satisfied: blis<0.8.0,>=0.7.8 in /usr/local/lib/python3.10/dist-packages (from thinc<8.3.0,>=8.2.2->spacy->-r requirements_ejercicio1.txt (line 5)) (0.7.11)\n",
            "Requirement already satisfied: confection<1.0.0,>=0.0.1 in /usr/local/lib/python3.10/dist-packages (from thinc<8.3.0,>=8.2.2->spacy->-r requirements_ejercicio1.txt (line 5)) (0.1.4)\n",
            "Requirement already satisfied: cloudpathlib<0.17.0,>=0.7.0 in /usr/local/lib/python3.10/dist-packages (from weasel<0.4.0,>=0.1.0->spacy->-r requirements_ejercicio1.txt (line 5)) (0.16.0)\n",
            "Requirement already satisfied: ipython-genutils in /usr/local/lib/python3.10/dist-packages (from ipykernel->jupyter->-r requirements_ejercicio1.txt (line 12)) (0.2.0)\n",
            "Requirement already satisfied: ipython>=5.0.0 in /usr/local/lib/python3.10/dist-packages (from ipykernel->jupyter->-r requirements_ejercicio1.txt (line 12)) (7.34.0)\n",
            "Requirement already satisfied: traitlets>=4.1.0 in /usr/local/lib/python3.10/dist-packages (from ipykernel->jupyter->-r requirements_ejercicio1.txt (line 12)) (5.7.1)\n",
            "Requirement already satisfied: jupyter-client in /usr/local/lib/python3.10/dist-packages (from ipykernel->jupyter->-r requirements_ejercicio1.txt (line 12)) (6.1.12)\n",
            "Requirement already satisfied: tornado>=4.2 in /usr/local/lib/python3.10/dist-packages (from ipykernel->jupyter->-r requirements_ejercicio1.txt (line 12)) (6.3.3)\n",
            "Requirement already satisfied: widgetsnbextension~=3.6.0 in /usr/local/lib/python3.10/dist-packages (from ipywidgets->jupyter->-r requirements_ejercicio1.txt (line 12)) (3.6.6)\n",
            "Requirement already satisfied: jupyterlab-widgets>=1.0.0 in /usr/local/lib/python3.10/dist-packages (from ipywidgets->jupyter->-r requirements_ejercicio1.txt (line 12)) (3.0.10)\n",
            "Requirement already satisfied: prompt-toolkit!=3.0.0,!=3.0.1,<3.1.0,>=2.0.0 in /usr/local/lib/python3.10/dist-packages (from jupyter-console->jupyter->-r requirements_ejercicio1.txt (line 12)) (3.0.43)\n",
            "Requirement already satisfied: pygments in /usr/local/lib/python3.10/dist-packages (from jupyter-console->jupyter->-r requirements_ejercicio1.txt (line 12)) (2.16.1)\n",
            "Requirement already satisfied: lxml in /usr/local/lib/python3.10/dist-packages (from nbconvert->jupyter->-r requirements_ejercicio1.txt (line 12)) (4.9.4)\n",
            "Requirement already satisfied: bleach in /usr/local/lib/python3.10/dist-packages (from nbconvert->jupyter->-r requirements_ejercicio1.txt (line 12)) (6.1.0)\n",
            "Requirement already satisfied: defusedxml in /usr/local/lib/python3.10/dist-packages (from nbconvert->jupyter->-r requirements_ejercicio1.txt (line 12)) (0.7.1)\n",
            "Requirement already satisfied: jupyter-core>=4.7 in /usr/local/lib/python3.10/dist-packages (from nbconvert->jupyter->-r requirements_ejercicio1.txt (line 12)) (5.7.2)\n",
            "Requirement already satisfied: jupyterlab-pygments in /usr/local/lib/python3.10/dist-packages (from nbconvert->jupyter->-r requirements_ejercicio1.txt (line 12)) (0.3.0)\n",
            "Requirement already satisfied: mistune<2,>=0.8.1 in /usr/local/lib/python3.10/dist-packages (from nbconvert->jupyter->-r requirements_ejercicio1.txt (line 12)) (0.8.4)\n",
            "Requirement already satisfied: nbclient>=0.5.0 in /usr/local/lib/python3.10/dist-packages (from nbconvert->jupyter->-r requirements_ejercicio1.txt (line 12)) (0.10.0)\n",
            "Requirement already satisfied: nbformat>=5.1 in /usr/local/lib/python3.10/dist-packages (from nbconvert->jupyter->-r requirements_ejercicio1.txt (line 12)) (5.10.3)\n",
            "Requirement already satisfied: pandocfilters>=1.4.1 in /usr/local/lib/python3.10/dist-packages (from nbconvert->jupyter->-r requirements_ejercicio1.txt (line 12)) (1.5.1)\n",
            "Requirement already satisfied: tinycss2 in /usr/local/lib/python3.10/dist-packages (from nbconvert->jupyter->-r requirements_ejercicio1.txt (line 12)) (1.2.1)\n",
            "Requirement already satisfied: pyzmq<25,>=17 in /usr/local/lib/python3.10/dist-packages (from notebook->jupyter->-r requirements_ejercicio1.txt (line 12)) (23.2.1)\n",
            "Requirement already satisfied: argon2-cffi in /usr/local/lib/python3.10/dist-packages (from notebook->jupyter->-r requirements_ejercicio1.txt (line 12)) (23.1.0)\n",
            "Requirement already satisfied: nest-asyncio>=1.5 in /usr/local/lib/python3.10/dist-packages (from notebook->jupyter->-r requirements_ejercicio1.txt (line 12)) (1.6.0)\n",
            "Requirement already satisfied: Send2Trash>=1.8.0 in /usr/local/lib/python3.10/dist-packages (from notebook->jupyter->-r requirements_ejercicio1.txt (line 12)) (1.8.2)\n",
            "Requirement already satisfied: terminado>=0.8.3 in /usr/local/lib/python3.10/dist-packages (from notebook->jupyter->-r requirements_ejercicio1.txt (line 12)) (0.18.1)\n",
            "Requirement already satisfied: prometheus-client in /usr/local/lib/python3.10/dist-packages (from notebook->jupyter->-r requirements_ejercicio1.txt (line 12)) (0.20.0)\n",
            "Requirement already satisfied: nbclassic>=0.4.7 in /usr/local/lib/python3.10/dist-packages (from notebook->jupyter->-r requirements_ejercicio1.txt (line 12)) (1.0.0)\n",
            "Requirement already satisfied: qtpy>=2.4.0 in /usr/local/lib/python3.10/dist-packages (from qtconsole->jupyter->-r requirements_ejercicio1.txt (line 12)) (2.4.1)\n",
            "Requirement already satisfied: smmap<6,>=3.0.1 in /usr/local/lib/python3.10/dist-packages (from gitdb<5,>=4.0.1->gitpython<4,>=3.1.9->mlflow->-r requirements_ejercicio1.txt (line 11)) (5.0.1)\n",
            "Requirement already satisfied: jedi>=0.16 in /usr/local/lib/python3.10/dist-packages (from ipython>=5.0.0->ipykernel->jupyter->-r requirements_ejercicio1.txt (line 12)) (0.19.1)\n",
            "Requirement already satisfied: decorator in /usr/local/lib/python3.10/dist-packages (from ipython>=5.0.0->ipykernel->jupyter->-r requirements_ejercicio1.txt (line 12)) (4.4.2)\n",
            "Requirement already satisfied: pickleshare in /usr/local/lib/python3.10/dist-packages (from ipython>=5.0.0->ipykernel->jupyter->-r requirements_ejercicio1.txt (line 12)) (0.7.5)\n",
            "Requirement already satisfied: backcall in /usr/local/lib/python3.10/dist-packages (from ipython>=5.0.0->ipykernel->jupyter->-r requirements_ejercicio1.txt (line 12)) (0.2.0)\n",
            "Requirement already satisfied: matplotlib-inline in /usr/local/lib/python3.10/dist-packages (from ipython>=5.0.0->ipykernel->jupyter->-r requirements_ejercicio1.txt (line 12)) (0.1.6)\n",
            "Requirement already satisfied: pexpect>4.3 in /usr/local/lib/python3.10/dist-packages (from ipython>=5.0.0->ipykernel->jupyter->-r requirements_ejercicio1.txt (line 12)) (4.9.0)\n",
            "Requirement already satisfied: platformdirs>=2.5 in /usr/local/lib/python3.10/dist-packages (from jupyter-core>=4.7->nbconvert->jupyter->-r requirements_ejercicio1.txt (line 12)) (4.2.0)\n",
            "Requirement already satisfied: jupyter-server>=1.8 in /usr/local/lib/python3.10/dist-packages (from nbclassic>=0.4.7->notebook->jupyter->-r requirements_ejercicio1.txt (line 12)) (1.24.0)\n",
            "Requirement already satisfied: notebook-shim>=0.2.3 in /usr/local/lib/python3.10/dist-packages (from nbclassic>=0.4.7->notebook->jupyter->-r requirements_ejercicio1.txt (line 12)) (0.2.4)\n",
            "Requirement already satisfied: fastjsonschema in /usr/local/lib/python3.10/dist-packages (from nbformat>=5.1->nbconvert->jupyter->-r requirements_ejercicio1.txt (line 12)) (2.19.1)\n",
            "Requirement already satisfied: jsonschema>=2.6 in /usr/local/lib/python3.10/dist-packages (from nbformat>=5.1->nbconvert->jupyter->-r requirements_ejercicio1.txt (line 12)) (4.19.2)\n",
            "Requirement already satisfied: wcwidth in /usr/local/lib/python3.10/dist-packages (from prompt-toolkit!=3.0.0,!=3.0.1,<3.1.0,>=2.0.0->jupyter-console->jupyter->-r requirements_ejercicio1.txt (line 12)) (0.2.13)\n",
            "Requirement already satisfied: ptyprocess in /usr/local/lib/python3.10/dist-packages (from terminado>=0.8.3->notebook->jupyter->-r requirements_ejercicio1.txt (line 12)) (0.7.0)\n",
            "Requirement already satisfied: argon2-cffi-bindings in /usr/local/lib/python3.10/dist-packages (from argon2-cffi->notebook->jupyter->-r requirements_ejercicio1.txt (line 12)) (21.2.0)\n",
            "Requirement already satisfied: webencodings in /usr/local/lib/python3.10/dist-packages (from bleach->nbconvert->jupyter->-r requirements_ejercicio1.txt (line 12)) (0.5.1)\n",
            "Requirement already satisfied: parso<0.9.0,>=0.8.3 in /usr/local/lib/python3.10/dist-packages (from jedi>=0.16->ipython>=5.0.0->ipykernel->jupyter->-r requirements_ejercicio1.txt (line 12)) (0.8.3)\n",
            "Requirement already satisfied: attrs>=22.2.0 in /usr/local/lib/python3.10/dist-packages (from jsonschema>=2.6->nbformat>=5.1->nbconvert->jupyter->-r requirements_ejercicio1.txt (line 12)) (23.2.0)\n",
            "Requirement already satisfied: jsonschema-specifications>=2023.03.6 in /usr/local/lib/python3.10/dist-packages (from jsonschema>=2.6->nbformat>=5.1->nbconvert->jupyter->-r requirements_ejercicio1.txt (line 12)) (2023.12.1)\n",
            "Requirement already satisfied: referencing>=0.28.4 in /usr/local/lib/python3.10/dist-packages (from jsonschema>=2.6->nbformat>=5.1->nbconvert->jupyter->-r requirements_ejercicio1.txt (line 12)) (0.34.0)\n",
            "Requirement already satisfied: rpds-py>=0.7.1 in /usr/local/lib/python3.10/dist-packages (from jsonschema>=2.6->nbformat>=5.1->nbconvert->jupyter->-r requirements_ejercicio1.txt (line 12)) (0.18.0)\n",
            "Requirement already satisfied: anyio<4,>=3.1.0 in /usr/local/lib/python3.10/dist-packages (from jupyter-server>=1.8->nbclassic>=0.4.7->notebook->jupyter->-r requirements_ejercicio1.txt (line 12)) (3.7.1)\n",
            "Requirement already satisfied: websocket-client in /usr/local/lib/python3.10/dist-packages (from jupyter-server>=1.8->nbclassic>=0.4.7->notebook->jupyter->-r requirements_ejercicio1.txt (line 12)) (1.7.0)\n",
            "Requirement already satisfied: cffi>=1.0.1 in /usr/local/lib/python3.10/dist-packages (from argon2-cffi-bindings->argon2-cffi->notebook->jupyter->-r requirements_ejercicio1.txt (line 12)) (1.16.0)\n",
            "Requirement already satisfied: sniffio>=1.1 in /usr/local/lib/python3.10/dist-packages (from anyio<4,>=3.1.0->jupyter-server>=1.8->nbclassic>=0.4.7->notebook->jupyter->-r requirements_ejercicio1.txt (line 12)) (1.3.1)\n",
            "Requirement already satisfied: exceptiongroup in /usr/local/lib/python3.10/dist-packages (from anyio<4,>=3.1.0->jupyter-server>=1.8->nbclassic>=0.4.7->notebook->jupyter->-r requirements_ejercicio1.txt (line 12)) (1.2.0)\n",
            "Requirement already satisfied: pycparser in /usr/local/lib/python3.10/dist-packages (from cffi>=1.0.1->argon2-cffi-bindings->argon2-cffi->notebook->jupyter->-r requirements_ejercicio1.txt (line 12)) (2.22)\n"
          ]
        }
      ]
    },
    {
      "cell_type": "code",
      "execution_count": 25,
      "metadata": {
        "id": "QAla9sMXYtxM"
      },
      "outputs": [],
      "source": [
        "import pandas as pd\n",
        "import numpy as np\n",
        "import matplotlib.pyplot as plt\n",
        "import seaborn as sns\n",
        "import mlflow\n",
        "import mlflow.sklearn\n",
        "\n",
        "from sklearn.datasets import fetch_20newsgroups\n",
        "from sklearn.model_selection import train_test_split\n",
        "\n",
        "import utils  # archivo en ../src/utils.py\n",
        "from preprocessing import preprocess_text  # archivo en ../src/preprocessing.py\n",
        "from train_model import *  # archivo en ../src/train_model.py\n",
        "\n",
        "from pyngrok import ngrok\n",
        "import mlflow\n",
        "from mlflow.tracking import MlflowClient"
      ]
    },
    {
      "cell_type": "markdown",
      "source": [
        "## Carga de datos"
      ],
      "metadata": {
        "id": "jHO1rAKg8MZZ"
      }
    },
    {
      "cell_type": "code",
      "source": [
        "categories = ['alt.atheism', 'rec.sport.baseball', 'comp.graphics', 'sci.space', 'sci.med']   # Elegimos estas categorías para la práctica\n",
        "newsgroups_train = fetch_20newsgroups(subset='train', categories=categories, remove=('headers', 'footers', 'quotes'))\n",
        "data = pd.DataFrame({'text': newsgroups_train.data, 'target': newsgroups_train.target})"
      ],
      "metadata": {
        "id": "gBEXQwHN7-nt"
      },
      "execution_count": 26,
      "outputs": []
    },
    {
      "cell_type": "code",
      "source": [
        "data.head()"
      ],
      "metadata": {
        "colab": {
          "base_uri": "https://localhost:8080/",
          "height": 206
        },
        "id": "EOQzSnTZ8OiY",
        "outputId": "ec6bdfe4-27eb-48c6-da22-e44db58f9b83"
      },
      "execution_count": 11,
      "outputs": [
        {
          "output_type": "execute_result",
          "data": {
            "text/plain": [
              "                                                text  target\n",
              "0  \\nYou can probably get this information by cal...       3\n",
              "1  \\nYou are making precisely one of the points I...       3\n",
              "2  \\nI could give much the same testimonial about...       0\n",
              "3   \\n \\nNo, the argument says John has known Q, ...       0\n",
              "4  \\nWas that post for real? I thought it was a l...       4"
            ],
            "text/html": [
              "\n",
              "  <div id=\"df-efcf0fe7-1400-4601-a9ee-c10fb065c728\" class=\"colab-df-container\">\n",
              "    <div>\n",
              "<style scoped>\n",
              "    .dataframe tbody tr th:only-of-type {\n",
              "        vertical-align: middle;\n",
              "    }\n",
              "\n",
              "    .dataframe tbody tr th {\n",
              "        vertical-align: top;\n",
              "    }\n",
              "\n",
              "    .dataframe thead th {\n",
              "        text-align: right;\n",
              "    }\n",
              "</style>\n",
              "<table border=\"1\" class=\"dataframe\">\n",
              "  <thead>\n",
              "    <tr style=\"text-align: right;\">\n",
              "      <th></th>\n",
              "      <th>text</th>\n",
              "      <th>target</th>\n",
              "    </tr>\n",
              "  </thead>\n",
              "  <tbody>\n",
              "    <tr>\n",
              "      <th>0</th>\n",
              "      <td>\\nYou can probably get this information by cal...</td>\n",
              "      <td>3</td>\n",
              "    </tr>\n",
              "    <tr>\n",
              "      <th>1</th>\n",
              "      <td>\\nYou are making precisely one of the points I...</td>\n",
              "      <td>3</td>\n",
              "    </tr>\n",
              "    <tr>\n",
              "      <th>2</th>\n",
              "      <td>\\nI could give much the same testimonial about...</td>\n",
              "      <td>0</td>\n",
              "    </tr>\n",
              "    <tr>\n",
              "      <th>3</th>\n",
              "      <td>\\n \\nNo, the argument says John has known Q, ...</td>\n",
              "      <td>0</td>\n",
              "    </tr>\n",
              "    <tr>\n",
              "      <th>4</th>\n",
              "      <td>\\nWas that post for real? I thought it was a l...</td>\n",
              "      <td>4</td>\n",
              "    </tr>\n",
              "  </tbody>\n",
              "</table>\n",
              "</div>\n",
              "    <div class=\"colab-df-buttons\">\n",
              "\n",
              "  <div class=\"colab-df-container\">\n",
              "    <button class=\"colab-df-convert\" onclick=\"convertToInteractive('df-efcf0fe7-1400-4601-a9ee-c10fb065c728')\"\n",
              "            title=\"Convert this dataframe to an interactive table.\"\n",
              "            style=\"display:none;\">\n",
              "\n",
              "  <svg xmlns=\"http://www.w3.org/2000/svg\" height=\"24px\" viewBox=\"0 -960 960 960\">\n",
              "    <path d=\"M120-120v-720h720v720H120Zm60-500h600v-160H180v160Zm220 220h160v-160H400v160Zm0 220h160v-160H400v160ZM180-400h160v-160H180v160Zm440 0h160v-160H620v160ZM180-180h160v-160H180v160Zm440 0h160v-160H620v160Z\"/>\n",
              "  </svg>\n",
              "    </button>\n",
              "\n",
              "  <style>\n",
              "    .colab-df-container {\n",
              "      display:flex;\n",
              "      gap: 12px;\n",
              "    }\n",
              "\n",
              "    .colab-df-convert {\n",
              "      background-color: #E8F0FE;\n",
              "      border: none;\n",
              "      border-radius: 50%;\n",
              "      cursor: pointer;\n",
              "      display: none;\n",
              "      fill: #1967D2;\n",
              "      height: 32px;\n",
              "      padding: 0 0 0 0;\n",
              "      width: 32px;\n",
              "    }\n",
              "\n",
              "    .colab-df-convert:hover {\n",
              "      background-color: #E2EBFA;\n",
              "      box-shadow: 0px 1px 2px rgba(60, 64, 67, 0.3), 0px 1px 3px 1px rgba(60, 64, 67, 0.15);\n",
              "      fill: #174EA6;\n",
              "    }\n",
              "\n",
              "    .colab-df-buttons div {\n",
              "      margin-bottom: 4px;\n",
              "    }\n",
              "\n",
              "    [theme=dark] .colab-df-convert {\n",
              "      background-color: #3B4455;\n",
              "      fill: #D2E3FC;\n",
              "    }\n",
              "\n",
              "    [theme=dark] .colab-df-convert:hover {\n",
              "      background-color: #434B5C;\n",
              "      box-shadow: 0px 1px 3px 1px rgba(0, 0, 0, 0.15);\n",
              "      filter: drop-shadow(0px 1px 2px rgba(0, 0, 0, 0.3));\n",
              "      fill: #FFFFFF;\n",
              "    }\n",
              "  </style>\n",
              "\n",
              "    <script>\n",
              "      const buttonEl =\n",
              "        document.querySelector('#df-efcf0fe7-1400-4601-a9ee-c10fb065c728 button.colab-df-convert');\n",
              "      buttonEl.style.display =\n",
              "        google.colab.kernel.accessAllowed ? 'block' : 'none';\n",
              "\n",
              "      async function convertToInteractive(key) {\n",
              "        const element = document.querySelector('#df-efcf0fe7-1400-4601-a9ee-c10fb065c728');\n",
              "        const dataTable =\n",
              "          await google.colab.kernel.invokeFunction('convertToInteractive',\n",
              "                                                    [key], {});\n",
              "        if (!dataTable) return;\n",
              "\n",
              "        const docLinkHtml = 'Like what you see? Visit the ' +\n",
              "          '<a target=\"_blank\" href=https://colab.research.google.com/notebooks/data_table.ipynb>data table notebook</a>'\n",
              "          + ' to learn more about interactive tables.';\n",
              "        element.innerHTML = '';\n",
              "        dataTable['output_type'] = 'display_data';\n",
              "        await google.colab.output.renderOutput(dataTable, element);\n",
              "        const docLink = document.createElement('div');\n",
              "        docLink.innerHTML = docLinkHtml;\n",
              "        element.appendChild(docLink);\n",
              "      }\n",
              "    </script>\n",
              "  </div>\n",
              "\n",
              "\n",
              "<div id=\"df-f7475557-32ef-4ec3-be70-b4de610bc9fd\">\n",
              "  <button class=\"colab-df-quickchart\" onclick=\"quickchart('df-f7475557-32ef-4ec3-be70-b4de610bc9fd')\"\n",
              "            title=\"Suggest charts\"\n",
              "            style=\"display:none;\">\n",
              "\n",
              "<svg xmlns=\"http://www.w3.org/2000/svg\" height=\"24px\"viewBox=\"0 0 24 24\"\n",
              "     width=\"24px\">\n",
              "    <g>\n",
              "        <path d=\"M19 3H5c-1.1 0-2 .9-2 2v14c0 1.1.9 2 2 2h14c1.1 0 2-.9 2-2V5c0-1.1-.9-2-2-2zM9 17H7v-7h2v7zm4 0h-2V7h2v10zm4 0h-2v-4h2v4z\"/>\n",
              "    </g>\n",
              "</svg>\n",
              "  </button>\n",
              "\n",
              "<style>\n",
              "  .colab-df-quickchart {\n",
              "      --bg-color: #E8F0FE;\n",
              "      --fill-color: #1967D2;\n",
              "      --hover-bg-color: #E2EBFA;\n",
              "      --hover-fill-color: #174EA6;\n",
              "      --disabled-fill-color: #AAA;\n",
              "      --disabled-bg-color: #DDD;\n",
              "  }\n",
              "\n",
              "  [theme=dark] .colab-df-quickchart {\n",
              "      --bg-color: #3B4455;\n",
              "      --fill-color: #D2E3FC;\n",
              "      --hover-bg-color: #434B5C;\n",
              "      --hover-fill-color: #FFFFFF;\n",
              "      --disabled-bg-color: #3B4455;\n",
              "      --disabled-fill-color: #666;\n",
              "  }\n",
              "\n",
              "  .colab-df-quickchart {\n",
              "    background-color: var(--bg-color);\n",
              "    border: none;\n",
              "    border-radius: 50%;\n",
              "    cursor: pointer;\n",
              "    display: none;\n",
              "    fill: var(--fill-color);\n",
              "    height: 32px;\n",
              "    padding: 0;\n",
              "    width: 32px;\n",
              "  }\n",
              "\n",
              "  .colab-df-quickchart:hover {\n",
              "    background-color: var(--hover-bg-color);\n",
              "    box-shadow: 0 1px 2px rgba(60, 64, 67, 0.3), 0 1px 3px 1px rgba(60, 64, 67, 0.15);\n",
              "    fill: var(--button-hover-fill-color);\n",
              "  }\n",
              "\n",
              "  .colab-df-quickchart-complete:disabled,\n",
              "  .colab-df-quickchart-complete:disabled:hover {\n",
              "    background-color: var(--disabled-bg-color);\n",
              "    fill: var(--disabled-fill-color);\n",
              "    box-shadow: none;\n",
              "  }\n",
              "\n",
              "  .colab-df-spinner {\n",
              "    border: 2px solid var(--fill-color);\n",
              "    border-color: transparent;\n",
              "    border-bottom-color: var(--fill-color);\n",
              "    animation:\n",
              "      spin 1s steps(1) infinite;\n",
              "  }\n",
              "\n",
              "  @keyframes spin {\n",
              "    0% {\n",
              "      border-color: transparent;\n",
              "      border-bottom-color: var(--fill-color);\n",
              "      border-left-color: var(--fill-color);\n",
              "    }\n",
              "    20% {\n",
              "      border-color: transparent;\n",
              "      border-left-color: var(--fill-color);\n",
              "      border-top-color: var(--fill-color);\n",
              "    }\n",
              "    30% {\n",
              "      border-color: transparent;\n",
              "      border-left-color: var(--fill-color);\n",
              "      border-top-color: var(--fill-color);\n",
              "      border-right-color: var(--fill-color);\n",
              "    }\n",
              "    40% {\n",
              "      border-color: transparent;\n",
              "      border-right-color: var(--fill-color);\n",
              "      border-top-color: var(--fill-color);\n",
              "    }\n",
              "    60% {\n",
              "      border-color: transparent;\n",
              "      border-right-color: var(--fill-color);\n",
              "    }\n",
              "    80% {\n",
              "      border-color: transparent;\n",
              "      border-right-color: var(--fill-color);\n",
              "      border-bottom-color: var(--fill-color);\n",
              "    }\n",
              "    90% {\n",
              "      border-color: transparent;\n",
              "      border-bottom-color: var(--fill-color);\n",
              "    }\n",
              "  }\n",
              "</style>\n",
              "\n",
              "  <script>\n",
              "    async function quickchart(key) {\n",
              "      const quickchartButtonEl =\n",
              "        document.querySelector('#' + key + ' button');\n",
              "      quickchartButtonEl.disabled = true;  // To prevent multiple clicks.\n",
              "      quickchartButtonEl.classList.add('colab-df-spinner');\n",
              "      try {\n",
              "        const charts = await google.colab.kernel.invokeFunction(\n",
              "            'suggestCharts', [key], {});\n",
              "      } catch (error) {\n",
              "        console.error('Error during call to suggestCharts:', error);\n",
              "      }\n",
              "      quickchartButtonEl.classList.remove('colab-df-spinner');\n",
              "      quickchartButtonEl.classList.add('colab-df-quickchart-complete');\n",
              "    }\n",
              "    (() => {\n",
              "      let quickchartButtonEl =\n",
              "        document.querySelector('#df-f7475557-32ef-4ec3-be70-b4de610bc9fd button');\n",
              "      quickchartButtonEl.style.display =\n",
              "        google.colab.kernel.accessAllowed ? 'block' : 'none';\n",
              "    })();\n",
              "  </script>\n",
              "</div>\n",
              "    </div>\n",
              "  </div>\n"
            ],
            "application/vnd.google.colaboratory.intrinsic+json": {
              "type": "dataframe",
              "variable_name": "data",
              "summary": "{\n  \"name\": \"data\",\n  \"rows\": 2848,\n  \"fields\": [\n    {\n      \"column\": \"text\",\n      \"properties\": {\n        \"dtype\": \"string\",\n        \"num_unique_values\": 2774,\n        \"samples\": [\n          \"\\nAny prize like this is going to need to be worded carefully enough that\\nyou cannot get it without demonstrating sustained and reliable capability,\\nrather than a lucky one-shot.  It can be done.\",\n          \"\\n[A GOOD DEAL OF HEALTHY IF NOT DEEPLY THOUGHT OUT IDEALISM DELETED\\nBELOW.]\\n\\n\\nIf their parent company does business (and they will) on the face of the Earth\\nthen they are vulnerable to govt. sanctions.  Yes they can be stopped.\\n\\n\\nFor the first 100 - 500 (IMHO) years nobody will have to.  The colonists will\\nbe too dependent on Earth too pull it off.  Eventually they will, history\\nshows us that.\\n\\n\\nWhat exactly do you mean here?  Terrorism?  Start an international incident\\nso your dream can come true?  Crack a few eggs to make the omelet?  This\\nsounds fairly irresponsible.\\n\\n\\n\\nAgain, the tie that binds will be much stronger for space colonists than\\nany immigrants that have gone before.  Even those intrepid Asian\\nexplorers that crossed the Bering land bridge did not have to carry their\\nair on their backs.\\n\\n==    \\n\\nKeep the dream alive, maybe dream it a little more cogently.\",\n          \"\\nI have lived in the Boston area for 15 years now.  They have been talking\\nabout a new Boston Garden (hockey/basketball) since I've lived here.  One\\nday the \\\"last hurdle\\\" has been overcome, and the next day there's a new\\nhurdle.  Fans have been grumbling about Foxboro Stadium (or whatever it's\\ncalled this year) for nearly as long, but there are only preliminary\\nproposals for a new stadium.  Local politics prevents anything from being\\ndone in a timely fashion.  There will not be a new ballpark in my\\nlifetime.\"\n        ],\n        \"semantic_type\": \"\",\n        \"description\": \"\"\n      }\n    },\n    {\n      \"column\": \"target\",\n      \"properties\": {\n        \"dtype\": \"number\",\n        \"std\": 1,\n        \"min\": 0,\n        \"max\": 4,\n        \"num_unique_values\": 5,\n        \"samples\": [\n          0,\n          1,\n          4\n        ],\n        \"semantic_type\": \"\",\n        \"description\": \"\"\n      }\n    }\n  ]\n}"
            }
          },
          "metadata": {},
          "execution_count": 11
        }
      ]
    },
    {
      "cell_type": "code",
      "source": [
        "data.info()"
      ],
      "metadata": {
        "colab": {
          "base_uri": "https://localhost:8080/"
        },
        "id": "xLGd9NvEWS9z",
        "outputId": "3ffa2323-df02-4057-c8b0-92055257ed76"
      },
      "execution_count": 7,
      "outputs": [
        {
          "output_type": "stream",
          "name": "stdout",
          "text": [
            "<class 'pandas.core.frame.DataFrame'>\n",
            "RangeIndex: 2848 entries, 0 to 2847\n",
            "Data columns (total 2 columns):\n",
            " #   Column  Non-Null Count  Dtype \n",
            "---  ------  --------------  ----- \n",
            " 0   text    2848 non-null   object\n",
            " 1   target  2848 non-null   int64 \n",
            "dtypes: int64(1), object(1)\n",
            "memory usage: 44.6+ KB\n"
          ]
        }
      ]
    },
    {
      "cell_type": "code",
      "source": [
        "data.isnull().sum()  # Debe dar 0 para todas las columnas si no hay NaN"
      ],
      "metadata": {
        "colab": {
          "base_uri": "https://localhost:8080/"
        },
        "id": "LusLN2bLW9fL",
        "outputId": "41996bf9-c5d8-4af8-b7a7-5445a3fcf0d8"
      },
      "execution_count": 8,
      "outputs": [
        {
          "output_type": "execute_result",
          "data": {
            "text/plain": [
              "text      0\n",
              "target    0\n",
              "dtype: int64"
            ]
          },
          "metadata": {},
          "execution_count": 8
        }
      ]
    },
    {
      "cell_type": "markdown",
      "source": [
        "## Eliminar valores nulos\n",
        "\n",
        "En este ejemplo no hay valores nulos en el dataset pero si los hubiera haríamos:"
      ],
      "metadata": {
        "id": "OGdZqChDYbNc"
      }
    },
    {
      "cell_type": "code",
      "source": [
        "data = data.dropna(subset=['text', 'target'])"
      ],
      "metadata": {
        "id": "TJHohDHgYebk"
      },
      "execution_count": 29,
      "outputs": []
    },
    {
      "cell_type": "markdown",
      "source": [
        "## Balancear las clases"
      ],
      "metadata": {
        "id": "j-3dHQk3B7DX"
      }
    },
    {
      "cell_type": "code",
      "source": [
        "min_count = data['target'].value_counts().min()\n",
        "print(f\"Número mínimo de registros presentes en las clases del target: {min_count}\")"
      ],
      "metadata": {
        "colab": {
          "base_uri": "https://localhost:8080/"
        },
        "id": "rZ7dL4kT_9oa",
        "outputId": "14318bda-65b6-42ea-c36a-1766b778ce10"
      },
      "execution_count": 27,
      "outputs": [
        {
          "output_type": "stream",
          "name": "stdout",
          "text": [
            "Número mínimo de registros presentes en las clases del target: 480\n"
          ]
        }
      ]
    },
    {
      "cell_type": "code",
      "source": [
        "dfs = [] # Lista para almacenar los DataFrames temporales\n",
        "\n",
        "for target in data['target'].unique():\n",
        "    dfs.append(data[data['target'] == target].sample(min_count, random_state=42))\n",
        "\n",
        "# Crear un DataFrame balanceado concatenando la lista de DataFrames\n",
        "df_balanced = pd.concat(dfs, ignore_index=True)"
      ],
      "metadata": {
        "id": "wmyO0SYBAFo6"
      },
      "execution_count": 28,
      "outputs": []
    },
    {
      "cell_type": "code",
      "source": [
        "df_balanced['target'].value_counts()"
      ],
      "metadata": {
        "colab": {
          "base_uri": "https://localhost:8080/"
        },
        "id": "GjHsLmgpBJXV",
        "outputId": "adc745b3-9a74-4373-8fd4-6e9aab93eadb"
      },
      "execution_count": 41,
      "outputs": [
        {
          "output_type": "execute_result",
          "data": {
            "text/plain": [
              "3    480\n",
              "0    480\n",
              "4    480\n",
              "2    480\n",
              "1    480\n",
              "Name: target, dtype: int64"
            ]
          },
          "metadata": {},
          "execution_count": 41
        }
      ]
    },
    {
      "cell_type": "code",
      "source": [
        "df_balanced.isnull().sum()"
      ],
      "metadata": {
        "colab": {
          "base_uri": "https://localhost:8080/"
        },
        "id": "8hzIEKy-ZBos",
        "outputId": "577e0c85-5cc9-441c-da68-e10850c502c2"
      },
      "execution_count": 42,
      "outputs": [
        {
          "output_type": "execute_result",
          "data": {
            "text/plain": [
              "text      0\n",
              "target    0\n",
              "dtype: int64"
            ]
          },
          "metadata": {},
          "execution_count": 42
        }
      ]
    },
    {
      "cell_type": "code",
      "source": [
        "df = df_balanced"
      ],
      "metadata": {
        "id": "RSYVW6JObf0O"
      },
      "execution_count": 29,
      "outputs": []
    },
    {
      "cell_type": "markdown",
      "source": [
        "## Guardar el dataframe balanceado"
      ],
      "metadata": {
        "id": "tGleOHb7B93y"
      }
    },
    {
      "cell_type": "code",
      "source": [
        "df_balanced.to_json('df_balanced.json', orient='records', lines=True)"
      ],
      "metadata": {
        "id": "iDlQCxqaCAhT"
      },
      "execution_count": 62,
      "outputs": []
    },
    {
      "cell_type": "code",
      "source": [
        "df = pd.read_json('df_balanced.json', orient='records', lines=True)  # cargar los datos (archivo en ../data/df_balanced.csv)"
      ],
      "metadata": {
        "id": "vJerI0fK6vc3"
      },
      "execution_count": 36,
      "outputs": []
    },
    {
      "cell_type": "code",
      "source": [
        "df.info()"
      ],
      "metadata": {
        "colab": {
          "base_uri": "https://localhost:8080/"
        },
        "id": "NfEh7nE2Xn2F",
        "outputId": "0b6812ae-43bd-4780-afce-2cab6acb3058"
      },
      "execution_count": 37,
      "outputs": [
        {
          "output_type": "stream",
          "name": "stdout",
          "text": [
            "<class 'pandas.core.frame.DataFrame'>\n",
            "RangeIndex: 2400 entries, 0 to 2399\n",
            "Data columns (total 2 columns):\n",
            " #   Column  Non-Null Count  Dtype \n",
            "---  ------  --------------  ----- \n",
            " 0   text    2351 non-null   object\n",
            " 1   target  2400 non-null   int64 \n",
            "dtypes: int64(1), object(1)\n",
            "memory usage: 37.6+ KB\n"
          ]
        }
      ]
    },
    {
      "cell_type": "markdown",
      "source": [
        "## División en conjuntos de entrenamiento, validación y prueba"
      ],
      "metadata": {
        "id": "sUrXuQO2CN6z"
      }
    },
    {
      "cell_type": "code",
      "source": [
        "train, test = train_test_split(df, test_size=0.2, random_state=42, stratify=df['target'])\n",
        "\n",
        "# División en subconjuntos de entrenamiento y validación\n",
        "x_train, x_val, y_train, y_val = train_test_split(\n",
        "    train[['text']],\n",
        "    train['target'],\n",
        "    test_size=0.2,\n",
        "    random_state=42,\n",
        "    stratify=train['target']  # Distribución equitativa de las clases\n",
        ")"
      ],
      "metadata": {
        "id": "DQmnan4XCRQG"
      },
      "execution_count": 30,
      "outputs": []
    },
    {
      "cell_type": "code",
      "source": [
        "print(train.shape, test.shape)\n",
        "print(x_train.shape, x_val.shape, y_train.shape, y_val.shape)\n",
        "print(np.bincount(y_train), np.bincount(y_val))"
      ],
      "metadata": {
        "colab": {
          "base_uri": "https://localhost:8080/"
        },
        "id": "2t_WwS6aiOH6",
        "outputId": "7a8b82cc-577c-4a3c-8dc7-c89067fb66c5"
      },
      "execution_count": 31,
      "outputs": [
        {
          "output_type": "stream",
          "name": "stdout",
          "text": [
            "(1920, 2) (480, 2)\n",
            "(1536, 1) (384, 1) (1536,) (384,)\n",
            "[307 308 307 307 307] [77 76 77 77 77]\n"
          ]
        }
      ]
    },
    {
      "cell_type": "code",
      "source": [
        "print(type(x_train))\n",
        "print(x_train.head())"
      ],
      "metadata": {
        "colab": {
          "base_uri": "https://localhost:8080/"
        },
        "id": "Hc_Sk2DOjSgJ",
        "outputId": "7ccf186b-a660-4b64-d805-40c3e5119413"
      },
      "execution_count": 46,
      "outputs": [
        {
          "output_type": "stream",
          "name": "stdout",
          "text": [
            "<class 'pandas.core.frame.DataFrame'>\n",
            "                                                   text\n",
            "1743  \\nOh... I forgot... Art Shamsky, former Red an...\n",
            "2060  Hi,\\n\\nI've noticed that if you only save a mo...\n",
            "2300  \\nThere are 2 books published by M&T BOOKS tha...\n",
            "2031  Does anybody know where I can get, via anonymo...\n",
            "1289  Sorry for asking a question that's not entirel...\n"
          ]
        }
      ]
    },
    {
      "cell_type": "code",
      "source": [
        "x_train.info()"
      ],
      "metadata": {
        "colab": {
          "base_uri": "https://localhost:8080/"
        },
        "id": "KY7TNeQAWI0q",
        "outputId": "ddc2ffc2-782a-4c28-931b-114f4d6e162a"
      },
      "execution_count": 47,
      "outputs": [
        {
          "output_type": "stream",
          "name": "stdout",
          "text": [
            "<class 'pandas.core.frame.DataFrame'>\n",
            "Int64Index: 1536 entries, 1743 to 800\n",
            "Data columns (total 1 columns):\n",
            " #   Column  Non-Null Count  Dtype \n",
            "---  ------  --------------  ----- \n",
            " 0   text    1536 non-null   object\n",
            "dtypes: object(1)\n",
            "memory usage: 24.0+ KB\n"
          ]
        }
      ]
    },
    {
      "cell_type": "markdown",
      "source": [
        "## Preparación del Conjunto de Prueba\n",
        "\n",
        "Extraemos la variable objetivo del conjunto de prueba y la guardamos en un archivo CSV. Después, eliminamos la variable objetivo del conjunto de prueba y la guardamos en otro archivo CSV:"
      ],
      "metadata": {
        "id": "Jmcit-4d81mP"
      }
    },
    {
      "cell_type": "code",
      "source": [
        "test_target = test['target']\n",
        "test_target.to_csv('test-target.csv', index=False)\n",
        "test.drop(columns=['target']).to_json('test.json', orient='records', lines=True)"
      ],
      "metadata": {
        "id": "9L_UpLqN8mp8"
      },
      "execution_count": 75,
      "outputs": []
    },
    {
      "cell_type": "markdown",
      "source": [
        "## Función de preprocesado de texto\n",
        "\n",
        "Implementamos una función de preprocesado de texto que nos permitirá estandarizar el formado de los textos y reducir la cardinalidad del vocabulario. Se realizan los siguientes pasos:\n",
        "\n",
        "- Eliminar tildes\n",
        "- Eliminar símbolos\n",
        "- Eliminar todo carácter que no sea una letra\n",
        "- Eliminar stopwords\n",
        "- Lemmatización en base a diccionario de token-lemma"
      ],
      "metadata": {
        "id": "kq_JfmVV8chr"
      }
    },
    {
      "cell_type": "markdown",
      "source": [
        "### Verificación del Preprocesamiento\n",
        "\n",
        "Seleccionamos un texto aleatorio para mostrar antes y después del preprocesamiento:"
      ],
      "metadata": {
        "id": "IV_OcDW67nhV"
      }
    },
    {
      "cell_type": "code",
      "source": [
        "texto_crudo = x_train['text'].sample(random_state=20).iloc[0]\n",
        "texto_preprocesado = preprocess_text(texto_crudo)\n",
        "\n",
        "print(\"Texto Crudo:\\n\", texto_crudo)\n",
        "print(\"\\nTexto Preprocesado:\\n\", texto_preprocesado)"
      ],
      "metadata": {
        "colab": {
          "base_uri": "https://localhost:8080/"
        },
        "id": "iYshFDPRGDee",
        "outputId": "b39ee6cc-f741-4a3a-ad41-7ce085c72d64"
      },
      "execution_count": 49,
      "outputs": [
        {
          "output_type": "stream",
          "name": "stdout",
          "text": [
            "Texto Crudo:\n",
            " My god, hope we don't have to put up with this kind of junk all season!\n",
            "\n",
            "\n",
            "How many home runs by Tartabull?  Just 1, right, you must be thinking\n",
            "of Dean Palmer or Juan Gonzalez (both of Texas) who each had 2 homers.\n",
            "\n",
            "\n",
            "I don't know how many to follow, but he was 1 for 4.\n",
            "\n",
            "\n",
            "Texto Preprocesado:\n",
            " god hope dont put kind junk season many home run tartabull right must thinking dean palmer juan gonzalez texas homer dont know many follow\n"
          ]
        }
      ]
    },
    {
      "cell_type": "markdown",
      "source": [
        "### Aplicar preprocesamiento"
      ],
      "metadata": {
        "id": "TxlYfl827u13"
      }
    },
    {
      "cell_type": "code",
      "source": [
        "x_train['text'] = x_train['text'].apply(preprocess_text)\n",
        "x_val['text'] = x_val['text'].apply(preprocess_text)\n",
        "test['text'] = test['text'].apply(preprocess_text)"
      ],
      "metadata": {
        "id": "h0-rTtuJ7y44"
      },
      "execution_count": 32,
      "outputs": []
    },
    {
      "cell_type": "code",
      "source": [
        "x_train['text'].head()"
      ],
      "metadata": {
        "colab": {
          "base_uri": "https://localhost:8080/"
        },
        "id": "-mC_o9-8_dnx",
        "outputId": "827ddda7-a474-451d-aeb1-60c65d3f5985"
      },
      "execution_count": 33,
      "outputs": [
        {
          "output_type": "execute_result",
          "data": {
            "text/plain": [
              "1743    oh forgot art shamsky former red mets player b...\n",
              "2060    hi ive noticed save model mapping plane positi...\n",
              "2300    book published mt book come c source code flop...\n",
              "2031    anybody know get via anonymous ftp otherwise p...\n",
              "1289    sorry asking question thats entirely based tec...\n",
              "Name: text, dtype: object"
            ]
          },
          "metadata": {},
          "execution_count": 33
        }
      ]
    },
    {
      "cell_type": "code",
      "source": [
        "# Visualizar los top 10 bigrams\n",
        "utils.plot_top_ngrams(x_train['text'], n=10, ngrams=(2,2))"
      ],
      "metadata": {
        "colab": {
          "base_uri": "https://localhost:8080/",
          "height": 399
        },
        "id": "DFBRpOz5Ejss",
        "outputId": "1464f424-c9ec-4bce-fcf6-6a3ca500d918"
      },
      "execution_count": 52,
      "outputs": [
        {
          "output_type": "display_data",
          "data": {
            "text/plain": [
              "<Figure size 1000x400 with 1 Axes>"
            ],
            "image/png": "[encoded data removed]"
          },
          "metadata": {}
        }
      ]
    },
    {
      "cell_type": "code",
      "source": [
        "# Visualizar los top 10 trigrams\n",
        "utils.plot_top_ngrams(x_train['text'], n=10, ngrams=(3,3))"
      ],
      "metadata": {
        "colab": {
          "base_uri": "https://localhost:8080/",
          "height": 399
        },
        "id": "gkoXTERgFgSq",
        "outputId": "9b59bee5-dac4-44fe-eb8c-b2316aa07cbb"
      },
      "execution_count": 53,
      "outputs": [
        {
          "output_type": "display_data",
          "data": {
            "text/plain": [
              "<Figure size 1000x400 with 1 Axes>"
            ],
            "image/png": "[encoded data removed]"
          },
          "metadata": {}
        }
      ]
    },
    {
      "cell_type": "code",
      "source": [
        "utils.plot_top_ngrams(x_train['text'], n=10)"
      ],
      "metadata": {
        "colab": {
          "base_uri": "https://localhost:8080/",
          "height": 399
        },
        "id": "wYhZVQgYF2U5",
        "outputId": "b873e97c-dd5c-47d5-8eef-f13cf34c6f80"
      },
      "execution_count": 54,
      "outputs": [
        {
          "output_type": "display_data",
          "data": {
            "text/plain": [
              "<Figure size 1000x400 with 1 Axes>"
            ],
            "image/png": "[encoded data removed]"
          },
          "metadata": {}
        }
      ]
    },
    {
      "cell_type": "markdown",
      "source": [
        "### Observar valores nulos tras el preprocesamiento de los textos"
      ],
      "metadata": {
        "id": "Px9EzLIhn7LW"
      }
    },
    {
      "cell_type": "code",
      "source": [
        "print(f\"Valores nulos en train: {x_train['text'].isnull().sum()}\")\n",
        "print(f\"Valores nulos en val: {x_val['text'].isnull().sum()}\")\n",
        "print(f\"Valores nulos en test: {test['text'].isnull().sum()}\")"
      ],
      "metadata": {
        "colab": {
          "base_uri": "https://localhost:8080/"
        },
        "id": "sWKn5Y1an_Xk",
        "outputId": "888fb7b5-8136-425e-e3e2-3faf2773a55a"
      },
      "execution_count": 64,
      "outputs": [
        {
          "output_type": "stream",
          "name": "stdout",
          "text": [
            "Valores nulos en train: 0\n",
            "Valores nulos en val: 0\n",
            "Valores nulos en test: 0\n"
          ]
        }
      ]
    },
    {
      "cell_type": "markdown",
      "source": [
        "### Guardar los datos preprocesados"
      ],
      "metadata": {
        "id": "CknNzm9aAcmf"
      }
    },
    {
      "cell_type": "code",
      "source": [
        "\"\"\"\n",
        "x_train.to_csv('train_processed.csv', index=False)\n",
        "x_val.to_csv('val_processed.csv', index=False)\n",
        "test.to_csv('test_processed.csv', index=False)\n",
        "\"\"\""
      ],
      "metadata": {
        "id": "2Du0QOnUAbWj"
      },
      "execution_count": 31,
      "outputs": []
    },
    {
      "cell_type": "code",
      "source": [
        "x_train.to_json('train_processed.json', orient='records', lines=True)\n",
        "x_val.to_json('val_processed.json', orient='records', lines=True)\n",
        "test.to_json('test_processed.json', orient='records', lines=True)"
      ],
      "metadata": {
        "id": "_PGJE_Tnhk8E"
      },
      "execution_count": 73,
      "outputs": []
    },
    {
      "cell_type": "markdown",
      "source": [
        "Nota: Optamos por guardar los archivos en formato JSON en lugar de CSV debido a la naturaleza de los datos textuales en el proyecto. Los textos pueden incluir caracteres especiales, como comas y saltos de línea, que complican su manejo en el formato CSV, ya que estos caracteres pueden interpretarse erróneamente como delimitadores de campo o registro. El formato JSON maneja de manera nativa estos caracteres especiales y preserva la integridad del texto, asegurando que los datos se guarden y carguen exactamente como se pretende, sin pérdida de información ni malinterpretación de la estructura de los datos."
      ],
      "metadata": {
        "id": "2AXjlk3V4HIb"
      }
    },
    {
      "cell_type": "markdown",
      "source": [
        "## Entrenar el modelo"
      ],
      "metadata": {
        "id": "xJiX0D1hFTbe"
      }
    },
    {
      "cell_type": "code",
      "source": [
        "best_model = train_and_tune(x_train['text'], y_train)"
      ],
      "metadata": {
        "colab": {
          "base_uri": "https://localhost:8080/"
        },
        "id": "fhxcd67uDxGk",
        "outputId": "d94b6a73-3c88-4afc-fc09-788ad4257653"
      },
      "execution_count": 56,
      "outputs": [
        {
          "output_type": "stream",
          "name": "stdout",
          "text": [
            "Mejores parámetros encontrados:\n",
            "{'clf__class_weight': 'balanced', 'clf__min_samples_leaf': 2, 'clf__n_estimators': 200}\n"
          ]
        }
      ]
    },
    {
      "cell_type": "markdown",
      "source": [
        "## Entrenar y evaluar el modelo"
      ],
      "metadata": {
        "id": "XhvENcinKSjH"
      }
    },
    {
      "cell_type": "code",
      "source": [
        "results = train_and_evaluate(x_train['text'], y_train, x_val['text'], y_val)"
      ],
      "metadata": {
        "colab": {
          "base_uri": "https://localhost:8080/",
          "height": 772
        },
        "id": "fUxf-ipOFVd2",
        "outputId": "1871bb19-49ed-43eb-b37b-e2de9993285f"
      },
      "execution_count": 34,
      "outputs": [
        {
          "output_type": "stream",
          "name": "stdout",
          "text": [
            "              precision    recall  f1-score   support\n",
            "\n",
            "           0       0.78      0.83      0.81        77\n",
            "           1       0.80      0.87      0.84        76\n",
            "           2       0.77      0.91      0.83        77\n",
            "           3       0.92      0.71      0.80        77\n",
            "           4       0.84      0.75      0.79        77\n",
            "\n",
            "    accuracy                           0.82       384\n",
            "   macro avg       0.82      0.82      0.81       384\n",
            "weighted avg       0.82      0.82      0.81       384\n",
            "\n"
          ]
        },
        {
          "output_type": "display_data",
          "data": {
            "text/plain": [
              "<Figure size 800x600 with 2 Axes>"
            ],
            "image/png": "[encoded data removed]"
          },
          "metadata": {}
        }
      ]
    },
    {
      "cell_type": "code",
      "source": [
        "model = results['model']"
      ],
      "metadata": {
        "id": "aIU5wmEuOVwG"
      },
      "execution_count": 35,
      "outputs": []
    },
    {
      "cell_type": "code",
      "source": [
        "accuracy_train = results['accuracy']\n",
        "f1_score_train = results['f1_score']\n",
        "\n",
        "print(f\"Accuracy: {accuracy_train}\")\n",
        "print(f\"F1 Score: {f1_score_train}\")"
      ],
      "metadata": {
        "colab": {
          "base_uri": "https://localhost:8080/"
        },
        "id": "XtyonvRmM66J",
        "outputId": "449873b3-ec55-4b2a-a21a-e08a0430d551"
      },
      "execution_count": 36,
      "outputs": [
        {
          "output_type": "stream",
          "name": "stdout",
          "text": [
            "Accuracy: 0.8151041666666666\n",
            "F1 Score: 0.8141944235583839\n"
          ]
        }
      ]
    },
    {
      "cell_type": "markdown",
      "source": [
        "### Características más importantes"
      ],
      "metadata": {
        "id": "Y3jwOxBsmNyp"
      }
    },
    {
      "cell_type": "code",
      "source": [
        "feature_names = model.named_steps['tfidf'].get_feature_names_out()\n",
        "feature_importances = model.named_steps['clf'].feature_importances_\n",
        "\n",
        "# Obtener las características más importantes\n",
        "sorted_indices = feature_importances.argsort()[::-1]\n",
        "\n",
        "for i in sorted_indices[:20]:  # Podemos cambiar el 20 por el número de top características que queramos mostrar\n",
        "    print(f\"{feature_names[i]}: {feature_importances[i]}\")"
      ],
      "metadata": {
        "colab": {
          "base_uri": "https://localhost:8080/"
        },
        "id": "0NuQa7r6ITSr",
        "outputId": "256099fc-69d8-4e07-a7b2-f2424bd01efa"
      },
      "execution_count": 61,
      "outputs": [
        {
          "output_type": "stream",
          "name": "stdout",
          "text": [
            "space: 0.022220304570779656\n",
            "game: 0.016204681417275865\n",
            "graphic: 0.014144797808726555\n",
            "file: 0.012465300319678909\n",
            "god: 0.010956421507647163\n",
            "baseball: 0.010824448011011538\n",
            "team: 0.009413764321384016\n",
            "image: 0.009100367956293785\n",
            "player: 0.008740409842780288\n",
            "doctor: 0.00812977544073422\n",
            "program: 0.007123656922945057\n",
            "orbit: 0.006915352223054367\n",
            "fan: 0.006723397230099557\n",
            "religion: 0.006198618041353984\n",
            "people: 0.006182483987445936\n",
            "patient: 0.006164224150010627\n",
            "hit: 0.006135059758278459\n",
            "disease: 0.006124494986556544\n",
            "season: 0.006104799188275643\n",
            "food: 0.006061916362657452\n"
          ]
        }
      ]
    },
    {
      "cell_type": "markdown",
      "source": [
        "## Conclusiones\n",
        "\n",
        "El modelo de clasificación **RandomForest** evaluado muestra un rendimiento equilibrado en términos de precisión, recall y puntaje F1 a través de las cinco clases del conjunto de validación.\n",
        "\n",
        "La **precisión global** del modelo es del `81.5%`, con un **puntaje F1** ponderado similar, lo que indica una buena armonía entre la precisión y la exhaustividad en todas las clases.\n",
        "\n",
        "La clase con **mejor recall es la clase 2** (`91%`), sugiriendo una alta capacidad del modelo para identificar esta clase correctamente. La **clase 3**, aunque tiene la precisión más alta (`92%`), exhibe el recall más bajo (`71%`), lo cual puede señalar una tendencia del modelo a ser más conservador al predecir esta clase, posiblemente debido a características distintivas aprendidas durante el entrenamiento.\n",
        "\n",
        "La **matriz de confusión** proporciona una representación visual detallada de las predicciones del modelo frente a las etiquetas verdaderas, mostrando una distribución razonablemente uniforme de errores a través de las clases.\n",
        "\n",
        "Los resultados indican un modelo robusto pero con espacio para mejora, especialmente en la optimización del recall para algunas clases."
      ],
      "metadata": {
        "id": "d_Ot-os7PjJo"
      }
    },
    {
      "cell_type": "markdown",
      "source": [
        "# Registro y Despliegue del Modelo con MLflow"
      ],
      "metadata": {
        "id": "1uHcvWgJQOD6"
      }
    },
    {
      "cell_type": "code",
      "source": [
        "!pip install pyngrok"
      ],
      "metadata": {
        "colab": {
          "base_uri": "https://localhost:8080/"
        },
        "id": "AXsekJ5t_d1j",
        "outputId": "1353b6a6-2158-4141-8b39-29d66a668f5b"
      },
      "execution_count": 1,
      "outputs": [
        {
          "output_type": "stream",
          "name": "stdout",
          "text": [
            "Requirement already satisfied: pyngrok in /usr/local/lib/python3.10/dist-packages (7.1.6)\n",
            "Requirement already satisfied: PyYAML>=5.1 in /usr/local/lib/python3.10/dist-packages (from pyngrok) (6.0.1)\n"
          ]
        }
      ]
    },
    {
      "cell_type": "code",
      "source": [
        "with mlflow.start_run(run_name='Clasificacion de Documentos'):\n",
        "  mlflow.log_metric('accuracy', accuracy_train)\n",
        "  mlflow.log_metric('f1_score', f1_score_train)\n",
        "  mlflow.log_param('min_samples_leaf', 2)\n",
        "  mlflow.log_param('n_estimators', 2)\n",
        "\n",
        "get_ipython().system_raw('mlflow ui --port 5001 &')\n",
        "\n",
        "ngrok.kill()\n",
        "\n",
        "NGROK_AUTH_TOKEN = '2dsHDK18ycaK9u7xt3bjIrJEZCo_7LkMjXXuRT67o1JropNFR'\n",
        "ngrok.set_auth_token(NGROK_AUTH_TOKEN)\n",
        "\n",
        "ngrok_tunnel = ngrok.connect(addr='5001', proto='http', bind_tls=True)\n",
        "print('El tracking UI:', ngrok_tunnel.public_url)"
      ],
      "metadata": {
        "colab": {
          "base_uri": "https://localhost:8080/"
        },
        "id": "2rDa9iP-_uCR",
        "outputId": "73afdd9b-e73d-4b87-c789-c4bd7800b79d"
      },
      "execution_count": 38,
      "outputs": [
        {
          "output_type": "stream",
          "name": "stdout",
          "text": [
            "El tracking UI: https://dde5-34-106-175-10.ngrok-free.app\n"
          ]
        }
      ]
    },
    {
      "cell_type": "code",
      "source": [
        "client = MlflowClient()"
      ],
      "metadata": {
        "id": "vb0fMwo7JPck"
      },
      "execution_count": 39,
      "outputs": []
    },
    {
      "cell_type": "code",
      "source": [
        "model_name = 'clf-model'"
      ],
      "metadata": {
        "id": "4ZP7sip8JZxL"
      },
      "execution_count": 40,
      "outputs": []
    },
    {
      "cell_type": "code",
      "source": [
        "with mlflow.start_run() as run:\n",
        "  run_num = run.info.run_id\n",
        "  model_uri = 'run:/{run_id}/artifact_path'.format(run_id=run_num, artifact_path=model_name)\n",
        "\n",
        "  mlflow.log_metric('accuracy', accuracy_train)\n",
        "  mlflow.sklearn.log_model(model,model_name)\n",
        "\n",
        "  model_details = mlflow.register_model(\n",
        "      model_uri = model_uri,\n",
        "      name = model_name\n",
        "  )"
      ],
      "metadata": {
        "colab": {
          "base_uri": "https://localhost:8080/"
        },
        "id": "YABud9CCJe01",
        "outputId": "b9d10814-9893-4460-8c01-59c8bac1da1a"
      },
      "execution_count": 41,
      "outputs": [
        {
          "output_type": "stream",
          "name": "stderr",
          "text": [
            "Registered model 'clf-model' already exists. Creating a new version of this model...\n",
            "Created version '2' of model 'clf-model'.\n"
          ]
        }
      ]
    },
    {
      "cell_type": "code",
      "source": [
        "model_version_infos = client.search_model_versions(\"name = '%s'\" % model_name)"
      ],
      "metadata": {
        "id": "9EGc1pmWNSm6"
      },
      "execution_count": 46,
      "outputs": []
    },
    {
      "cell_type": "code",
      "source": [
        "new_model_version = max([model_version_info.version for model_version_info in model_version_infos])"
      ],
      "metadata": {
        "id": "s5a_DYXfOCwt"
      },
      "execution_count": 47,
      "outputs": []
    },
    {
      "cell_type": "code",
      "source": [
        "new_model_version"
      ],
      "metadata": {
        "colab": {
          "base_uri": "https://localhost:8080/"
        },
        "id": "MRWAFF6JOY-S",
        "outputId": "6ef74b2a-eac9-458d-8d28-1582f7201925"
      },
      "execution_count": 48,
      "outputs": [
        {
          "output_type": "execute_result",
          "data": {
            "text/plain": [
              "2"
            ]
          },
          "metadata": {},
          "execution_count": 48
        }
      ]
    },
    {
      "cell_type": "code",
      "source": [
        "from mlflow.entities.model_registry.model_version_status import ModelVersionStatus\n",
        "\n",
        "def wait_model_transition(model_name, model_version, stage):\n",
        "  client = MlflowClient()\n",
        "  for _ in range(10):\n",
        "    model_version_details = client.get_model_version(\n",
        "      name=model_name,\n",
        "      version=model_version,\n",
        "    )\n",
        "    status = ModelVersionStatus.from_string(model_version_details.status)\n",
        "    print(\"Model status: %s\" % ModelVersionStatus.to_string(status))\n",
        "    if status == ModelVersionStatus.READY:\n",
        "      client.transition_model_version_stage(\n",
        "          name=model_name,\n",
        "          version=model_version,\n",
        "          stage=stage,\n",
        "        )\n",
        "      break\n",
        "    time.sleep(1)"
      ],
      "metadata": {
        "id": "1mXI1P0yQgow"
      },
      "execution_count": 49,
      "outputs": []
    },
    {
      "cell_type": "code",
      "source": [
        "try:\n",
        "  wait_model_transition(model_name, int(new_model_version)-1, \"None\")\n",
        "except:\n",
        "  pass\n",
        "\n",
        "wait_model_transition(model_name, new_model_version, \"Staging\")"
      ],
      "metadata": {
        "colab": {
          "base_uri": "https://localhost:8080/"
        },
        "id": "9RSP5MeGPiFb",
        "outputId": "882e6b53-bf14-4e45-9418-df5782cd2639"
      },
      "execution_count": 50,
      "outputs": [
        {
          "output_type": "stream",
          "name": "stdout",
          "text": [
            "Model status: READY\n",
            "Model status: READY\n"
          ]
        },
        {
          "output_type": "stream",
          "name": "stderr",
          "text": [
            "<ipython-input-49-00287e974e80>:13: FutureWarning: ``mlflow.tracking.client.MlflowClient.transition_model_version_stage`` is deprecated since 2.9.0. Model registry stages will be removed in a future major release. To learn more about the deprecation of model registry stages, see our migration guide here: https://mlflow.org/docs/2.11.3/model-registry.html#migrating-from-stages\n",
            "  client.transition_model_version_stage(\n"
          ]
        }
      ]
    },
    {
      "cell_type": "code",
      "source": [
        "new_model_version"
      ],
      "metadata": {
        "colab": {
          "base_uri": "https://localhost:8080/"
        },
        "id": "4L1zXUp0Pvg0",
        "outputId": "25951683-e040-4388-e19b-953d7fc9a315"
      },
      "execution_count": 51,
      "outputs": [
        {
          "output_type": "execute_result",
          "data": {
            "text/plain": [
              "2"
            ]
          },
          "metadata": {},
          "execution_count": 51
        }
      ]
    },
    {
      "cell_type": "code",
      "source": [
        "client.update_model_version(\n",
        "  name=model_name,\n",
        "  version=new_model_version,\n",
        "  description=\"This model is a random forest classifier for the fetch_20newsgroups dataset from sklearn.\"\n",
        ")"
      ],
      "metadata": {
        "colab": {
          "base_uri": "https://localhost:8080/"
        },
        "id": "bqDzif6HPzJn",
        "outputId": "166c2d3a-c80c-4dd5-b356-db53d98a0cdf"
      },
      "execution_count": 53,
      "outputs": [
        {
          "output_type": "execute_result",
          "data": {
            "text/plain": [
              "<ModelVersion: aliases=[], creation_timestamp=1712336644656, current_stage='Staging', description=('This model is a random forest classifier for the fetch_20newsgroups dataset '\n",
              " 'from sklearn.'), last_updated_timestamp=1712337172551, name='clf-model', run_id=None, run_link=None, source='run:/c733cfbb77d4418ba0183983ad9cb232/artifact_path', status='READY', status_message=None, tags={}, user_id=None, version=2>"
            ]
          },
          "metadata": {},
          "execution_count": 53
        }
      ]
    }
  ]
}